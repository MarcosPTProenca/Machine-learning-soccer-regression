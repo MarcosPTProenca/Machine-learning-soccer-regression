{
 "cells": [
  {
   "cell_type": "code",
   "execution_count": null,
   "metadata": {},
   "outputs": [],
   "source": [
    "import pandas as pd\n",
    "import numpy as np\n",
    "import matplotlib.pyplot as plt\n",
    "from sklearn.model_selection import train_test_split\n",
    "from sklearn.feature_selection import SelectKBest, f_classif\n",
    "from sklearn.preprocessing import StandardScaler, MinMaxScaler\n",
    "from sklearn.linear_model import LinearRegression\n",
    "from sklearn.metrics import roc_curve\n",
    "from sklearn.metrics import confusion_matrix, ConfusionMatrixDisplay,accuracy_score\n",
    "from sklearn.metrics import roc_auc_score\n",
    "from sklearn.ensemble import RandomForestRegressor\n",
    "from sklearn.metrics import r2_score, mean_squared_error\n",
    "import seaborn as sns \n",
    "import pydotplus\n",
    "from sklearn import tree\n",
    "from sklearn.tree import DecisionTreeRegressor\n",
    "from sklearn.decomposition import PCA\n",
    "from sklearn.model_selection import RandomizedSearchCV\n",
    "from xgboost import XGBRegressor\n",
    "import warnings\n",
    "warnings.filterwarnings(\"ignore\")"
   ]
  },
  {
   "cell_type": "code",
   "execution_count": null,
   "metadata": {},
   "outputs": [],
   "source": [
    "dfs = pd.read_html('https://www.worldfootball.net/schedule/bra-serie-a-2013-spieltag/1/', header = 0)\n",
    "df = dfs[3]\n",
    "for j in range(2013,2021):\n",
    "    for i in range(1,39):\n",
    "        dfs = pd.read_html(f'https://www.worldfootball.net/schedule/bra-serie-a-{j}-spieltag/{i}/', header = 0)\n",
    "        df = pd.concat([df,dfs[3]])"
   ]
  },
  {
   "cell_type": "code",
   "execution_count": null,
   "metadata": {},
   "outputs": [],
   "source": [
    "df_final = df.tail(-20)"
   ]
  },
  {
   "cell_type": "code",
   "execution_count": null,
   "metadata": {},
   "outputs": [],
   "source": [
    "df_final"
   ]
  },
  {
   "cell_type": "code",
   "execution_count": null,
   "metadata": {},
   "outputs": [],
   "source": [
    "df_final.drop(['Team'], inplace=True, axis=1)\n",
    "df_final.rename(index=str, columns={'#': 'Posicao', 'Team.1': 'Time', 'M.': 'Rodada_atual', 'W': 'Vitorias',\n",
    "                              'D': 'Empates', 'L': 'Derrotas', 'goals': 'Gols',\n",
    "                               'Dif.': 'Saldo_gols', 'Pt.': 'Pontuacao'}, inplace=True)"
   ]
  },
  {
   "cell_type": "code",
   "execution_count": null,
   "metadata": {},
   "outputs": [],
   "source": [
    "df_final['Temporada'] = 0\n",
    "df_final.iloc[0:760,9] = 2013\n",
    "df_final.iloc[760:1520,9] = 2014\n",
    "df_final.iloc[1520:2280,9] = 2015\n",
    "df_final.iloc[2280:3040,9] = 2016\n",
    "df_final.iloc[3040:3800,9] = 2017\n",
    "df_final.iloc[3800:4560,9] = 2018\n",
    "df_final.iloc[4560:5320,9] = 2019\n",
    "df_final.iloc[5320:6080,9] = 2020"
   ]
  },
  {
   "cell_type": "code",
   "execution_count": null,
   "metadata": {},
   "outputs": [],
   "source": [
    "pd.set_option('display.max_rows', 10)"
   ]
  },
  {
   "cell_type": "code",
   "execution_count": null,
   "metadata": {},
   "outputs": [],
   "source": [
    "df_final['Posicao'] = pd.to_numeric(df_final.index) + 1"
   ]
  },
  {
   "cell_type": "code",
   "execution_count": null,
   "metadata": {},
   "outputs": [],
   "source": [
    "dfs2 = pd.read_html('https://pt.wikipedia.org/wiki/Lista_dos_20_primeiros_colocados_do_Ranking_Nacional_de_Clubes_por_ano', header =None)\n",
    "df2 = dfs2[1]\n",
    "for i in range(2,8):\n",
    "    df2 = pd.concat([df2,dfs2[i]])"
   ]
  },
  {
   "cell_type": "code",
   "execution_count": null,
   "metadata": {},
   "outputs": [],
   "source": [
    "df2.drop(['Pos..1','UF'], inplace=True, axis=1)\n",
    "df2.rename(index=int, columns={'Pos.':'Posicao','Clube':'Time'},inplace=True)\n",
    "df2['Time'] = np.where(df2['Time']=='Palmeiras e Cruzeiro','Palmeiras',df2['Time'])"
   ]
  },
  {
   "cell_type": "code",
   "execution_count": null,
   "metadata": {},
   "outputs": [],
   "source": [
    "nova_linha = ['1º','Cruzeiro',15288]\n",
    "def Insert_row_(row_number, df, row_value):\n",
    "    # Slice the upper half of the dataframe\n",
    "    df1 = df[0:row_number]\n",
    "   \n",
    "    # Store the result of lower half of the dataframe\n",
    "    df2 = df[row_number:]\n",
    "   \n",
    "    # Inser the row in the upper half dataframe\n",
    "    df1.loc[row_number]=row_value\n",
    "   \n",
    "    # Concat the two dataframes\n",
    "    df_result = pd.concat([df1, df2])\n",
    "   \n",
    "    # Reassign the index labels\n",
    "    df_result.index = [*range(df_result.shape[0])]\n",
    "   \n",
    "    # Return the updated dataframe\n",
    "    return df_result\n",
    "df2 = Insert_row_(101, df2, nova_linha)"
   ]
  },
  {
   "cell_type": "code",
   "execution_count": null,
   "metadata": {},
   "outputs": [],
   "source": [
    "df2['Time'] = np.where(df2['Time']=='Atlético Paranaense','Athletico Paranaense',df2['Time'])"
   ]
  },
  {
   "cell_type": "code",
   "execution_count": null,
   "metadata": {},
   "outputs": [],
   "source": [
    "df2['Temporada'] = 0\n",
    "df2.iloc[0:20,3] = 2013\n",
    "df2.iloc[20:40,3] = 2014\n",
    "df2.iloc[40:60,3] = 2015\n",
    "df2.iloc[60:80,3] = 2016\n",
    "df2.iloc[80:100,3] = 2017\n",
    "df2.iloc[100:120,3] = 2018\n",
    "df2.iloc[120:,3] = 2019"
   ]
  },
  {
   "cell_type": "code",
   "execution_count": null,
   "metadata": {},
   "outputs": [],
   "source": [
    "def add_ranking(time1,time2):\n",
    "    for i in range(2013,2020):\n",
    "        aux = int(df2.loc[(df2['Time']==time2) & (df2['Temporada']== i),'Pontos'])\n",
    "        df_final.loc[(df_final['Time']==time1) & (df_final['Temporada']== i),'Ranking_cbf'] = aux\n",
    "def add_ranking2(time1,time2,ano):\n",
    "    aux = int(df2.loc[(df2['Time']==time2) & (df2['Temporada']== ano),'Pontos'])\n",
    "    df_final.loc[(df_final['Time']==time1) & (df_final['Temporada']== ano),'Ranking_cbf'] = aux"
   ]
  },
  {
   "cell_type": "code",
   "execution_count": null,
   "metadata": {},
   "outputs": [],
   "source": [
    "df_final['Ranking_cbf'] = 0\n",
    "add_ranking('Fluminense RJ','Fluminense')\n",
    "add_ranking('Corinthians SP','Corinthians')\n",
    "add_ranking('Vasco da Gama','Vasco da Gama')\n",
    "add_ranking('São Paulo FC','São Paulo')\n",
    "add_ranking('Grêmio Porto Alegre','Grêmio')\n",
    "add_ranking('Internacional','Internacional')\n",
    "add_ranking('Flamengo RJ','Flamengo')\n",
    "add_ranking('Palmeiras','Palmeiras')\n",
    "add_ranking('Santos FC','Santos')\n",
    "add_ranking('Botafogo - RJ','Botafogo')\n",
    "add_ranking('Vitória - BA','Vitória')\n",
    "add_ranking2('Goiás','Goiás',2013)\n",
    "add_ranking2('Goiás','Goiás',2014)\n",
    "add_ranking2('Goiás','Goiás',2015)\n",
    "add_ranking2('Bahia - BA','Bahia',2013)\n",
    "add_ranking2('Bahia - BA','Bahia',2014)\n",
    "add_ranking2('Bahia - BA','Bahia',2019)\n",
    "add_ranking('Cruzeiro','Cruzeiro')\n",
    "add_ranking('Coritiba FC','Coritiba')\n",
    "add_ranking('Atlético Mineiro','Atlético Mineiro')\n",
    "add_ranking('Athletico Paranaense','Athletico Paranaense')\n",
    "add_ranking2('Figueirense - SC','Figueirense',2016)\n",
    "add_ranking2('Chapecoense','Chapecoense',2017)\n",
    "add_ranking2('Chapecoense','Chapecoense',2018)\n",
    "add_ranking2('Chapecoense','Chapecoense',2019)\n",
    "add_ranking2('Sport - PE','Sport',2015)\n",
    "add_ranking2('Sport - PE','Sport',2016)\n",
    "add_ranking2('Sport - PE','Sport',2017)\n",
    "add_ranking2('Sport - PE','Sport',2018)\n",
    "add_ranking2('Ponte Preta','Ponte Preta',2015)\n",
    "add_ranking2('Ponte Preta','Ponte Preta',2016)\n",
    "add_ranking2('Ponte Preta','Ponte Preta',2017)"
   ]
  },
  {
   "cell_type": "code",
   "execution_count": null,
   "metadata": {},
   "outputs": [],
   "source": [
    "df_final.loc[(df_final['Time']=='Goiás') & (df_final['Temporada']== 2019),'Ranking_cbf'] = 6168\n",
    "\n",
    "df_final.loc[(df_final['Time']=='Bahia - BA') & (df_final['Temporada']== 2017),'Ranking_cbf'] = 6698\n",
    "df_final.loc[(df_final['Time']=='Bahia - BA') & (df_final['Temporada']== 2018),'Ranking_cbf'] = 6647\n",
    "\n",
    "df_final.loc[(df_final['Time']=='Atlético Goianiense') & (df_final['Temporada']== 2017),'Ranking_cbf'] = 5443\n",
    "\n",
    "df_final.loc[(df_final['Time']=='Figueirense - SC') & (df_final['Temporada']== 2014),'Ranking_cbf'] = 6248\n",
    "df_final.loc[(df_final['Time']=='Figueirense - SC') & (df_final['Temporada']== 2015),'Ranking_cbf'] = 6898\n",
    "\n",
    "df_final.loc[(df_final['Time']=='Chapecoense') & (df_final['Temporada']== 2014),'Ranking_cbf'] = 3557\n",
    "df_final.loc[(df_final['Time']=='Chapecoense') & (df_final['Temporada']== 2015),'Ranking_cbf'] = 5150\n",
    "df_final.loc[(df_final['Time']=='Chapecoense') & (df_final['Temporada']== 2016),'Ranking_cbf'] = 6336\n",
    "\n",
    "df_final.loc[(df_final['Time']=='América - MG') & (df_final['Temporada']== 2016),'Ranking_cbf'] = 5202\n",
    "df_final.loc[(df_final['Time']=='América - MG') & (df_final['Temporada']== 2018),'Ranking_cbf'] = 6255\n",
    "\n",
    "df_final.loc[(df_final['Time']=='Sport - PE') & (df_final['Temporada']== 2014),'Ranking_cbf'] = 6740\n",
    "\n",
    "df_final.loc[(df_final['Time']=='Avaí - SC') & (df_final['Temporada']== 2015),'Ranking_cbf'] = 6364\n",
    "df_final.loc[(df_final['Time']=='Avaí - SC') & (df_final['Temporada']== 2017),'Ranking_cbf'] = 5894\n",
    "df_final.loc[(df_final['Time']=='Avaí - SC') & (df_final['Temporada']== 2019),'Ranking_cbf'] = 6394\n",
    "\n",
    "df_final.loc[(df_final['Time']=='Ponte Preta') & (df_final['Temporada']== 2013),'Ranking_cbf'] = 7600\n",
    "\n",
    "df_final.loc[(df_final['Time']=='Portuguesa - SP') & (df_final['Temporada']== 2013),'Ranking_cbf'] = 7840\n",
    "\n",
    "df_final.loc[(df_final['Time']=='Ceará - CE') & (df_final['Temporada']== 2018),'Ranking_cbf'] = 5553\n",
    "df_final.loc[(df_final['Time']=='Ceará - CE') & (df_final['Temporada']== 2019),'Ranking_cbf'] = 6274\n",
    "\n",
    "df_final.loc[(df_final['Time']=='CSA - AL') & (df_final['Temporada']== 2019),'Ranking_cbf'] = 2850\n",
    "\n",
    "df_final.loc[(df_final['Time']=='Náutico - PE') & (df_final['Temporada']== 2013),'Ranking_cbf'] = 8036\n",
    "\n",
    "df_final.loc[(df_final['Time']=='Joinville - SC') & (df_final['Temporada']== 2015),'Ranking_cbf'] = 4699\n",
    "\n",
    "df_final.loc[(df_final['Time']=='Paraná Clube') & (df_final['Temporada']== 2018),'Ranking_cbf'] = 5244\n",
    "\n",
    "df_final.loc[(df_final['Time']=='Santa Cruz - PE') & (df_final['Temporada']== 2016),'Ranking_cbf'] = 4310\n",
    "\n",
    "df_final.loc[(df_final['Time']=='Criciúma - SC') & (df_final['Temporada']== 2013),'Ranking_cbf'] = 4370\n",
    "df_final.loc[(df_final['Time']=='Criciúma - SC') & (df_final['Temporada']== 2014),'Ranking_cbf'] = 5818\n",
    "\n",
    "df_final.loc[(df_final['Time']=='Fortaleza') & (df_final['Temporada']== 2019),'Ranking_cbf'] = 4222\n"
   ]
  },
  {
   "cell_type": "code",
   "execution_count": null,
   "metadata": {},
   "outputs": [],
   "source": [
    "# ranking de clubes da cbf em 2020\n",
    "df_final.loc[(df_final['Time']=='São Paulo FC') & (df_final['Temporada']== 2020),'Ranking_cbf'] = 10526\n",
    "df_final.loc[(df_final['Time']=='Sport - PE') & (df_final['Temporada']== 2020),'Ranking_cbf'] = 7237\n",
    "df_final.loc[(df_final['Time']=='Bahia - BA') & (df_final['Temporada']== 2020),'Ranking_cbf'] = 10719\n",
    "df_final.loc[(df_final['Time']=='Atlético Mineiro') & (df_final['Temporada']== 2020),'Ranking_cbf'] = 13096\n",
    "df_final.loc[(df_final['Time']=='Grêmio Porto Alegre') & (df_final['Temporada']== 2020),'Ranking_cbf'] = 15160\n",
    "df_final.loc[(df_final['Time']=='Santos FC') & (df_final['Temporada']== 2020),'Ranking_cbf'] = 13944\n",
    "df_final.loc[(df_final['Time']=='Internacional') & (df_final['Temporada']== 2020),'Ranking_cbf'] = 12204\n",
    "df_final.loc[(df_final['Time']=='Athletico Paranaense') & (df_final['Temporada']== 2020),'Ranking_cbf'] = 13466\n",
    "df_final.loc[(df_final['Time']=='Vasco da Gama') & (df_final['Temporada']== 2020),'Ranking_cbf'] = 9242\n",
    "df_final.loc[(df_final['Time']=='Atlético Goianiense') & (df_final['Temporada']== 2020),'Ranking_cbf'] = 5834\n",
    "df_final.loc[(df_final['Time']=='Corinthians SP') & (df_final['Temporada']== 2020),'Ranking_cbf'] = 13084\n",
    "df_final.loc[(df_final['Time']=='Red Bull Bragantino') & (df_final['Temporada']== 2020),'Ranking_cbf'] = 4145 \n",
    "df_final.loc[(df_final['Time']=='Ceará - CE') & (df_final['Temporada']== 2020),'Ranking_cbf'] = 6751\n",
    "df_final.loc[(df_final['Time']=='Botafogo - RJ') & (df_final['Temporada']== 2020),'Ranking_cbf'] = 9640\n",
    "df_final.loc[(df_final['Time']=='Coritiba FC') & (df_final['Temporada']== 2020),'Ranking_cbf'] = 5958\n",
    "df_final.loc[(df_final['Time']=='Flamengo RJ') & (df_final['Temporada']== 2020),'Ranking_cbf'] = 15428\n",
    "df_final.loc[(df_final['Time']=='Fluminense RJ') & (df_final['Temporada']== 2020),'Ranking_cbf'] = 9938\n",
    "df_final.loc[(df_final['Time']=='Fortaleza') & (df_final['Temporada']== 2020),'Ranking_cbf'] = 6585\n",
    "df_final.loc[(df_final['Time']=='Goiás') & (df_final['Temporada']== 2020),'Ranking_cbf'] = 6703\n",
    "df_final.loc[(df_final['Time']=='Palmeiras') & (df_final['Temporada']== 2020),'Ranking_cbf'] = 16640"
   ]
  },
  {
   "cell_type": "code",
   "execution_count": null,
   "metadata": {},
   "outputs": [],
   "source": [
    "def add_valor(time,ano,valor):\n",
    "    df_final.loc[(df_final['Time']==time) & (df_final['Temporada']== ano),'Valor_time'] = valor"
   ]
  },
  {
   "cell_type": "code",
   "execution_count": null,
   "metadata": {},
   "outputs": [],
   "source": [
    "# valor do time em 15/09/20 - transfermarkt\n",
    "df_final['Valor_time'] = 0\n",
    "df_final.loc[(df_final['Time']=='São Paulo FC') & (df_final['Temporada']== 2020),'Valor_time'] = 59.35\n",
    "df_final.loc[(df_final['Time']=='Sport - PE') & (df_final['Temporada']== 2020),'Valor_time'] = 15.78\n",
    "df_final.loc[(df_final['Time']=='Bahia - BA') & (df_final['Temporada']== 2020),'Valor_time'] = 25.45\n",
    "df_final.loc[(df_final['Time']=='Atlético Mineiro') & (df_final['Temporada']== 2020),'Valor_time'] = 63.9\n",
    "df_final.loc[(df_final['Time']=='Grêmio Porto Alegre') & (df_final['Temporada']== 2020),'Valor_time'] = 82.45\n",
    "df_final.loc[(df_final['Time']=='Santos FC') & (df_final['Temporada']== 2020),'Valor_time'] = 48.05\n",
    "df_final.loc[(df_final['Time']=='Internacional') & (df_final['Temporada']== 2020),'Valor_time'] = 66\n",
    "df_final.loc[(df_final['Time']=='Athletico Paranaense') & (df_final['Temporada']== 2020),'Valor_time'] = 49.03\n",
    "df_final.loc[(df_final['Time']=='Vasco da Gama') & (df_final['Temporada']== 2020),'Valor_time'] = 27\n",
    "df_final.loc[(df_final['Time']=='Atlético Goianiense') & (df_final['Temporada']== 2020),'Valor_time'] = 13.58\n",
    "df_final.loc[(df_final['Time']=='Corinthians SP') & (df_final['Temporada']== 2020),'Valor_time'] = 67.95\n",
    "df_final.loc[(df_final['Time']=='Red Bull Bragantino') & (df_final['Temporada']== 2020),'Valor_time'] = 36.73\n",
    "df_final.loc[(df_final['Time']=='Ceará - CE') & (df_final['Temporada']== 2020),'Valor_time'] = 16.8\n",
    "df_final.loc[(df_final['Time']=='Botafogo - RJ') & (df_final['Temporada']== 2020),'Valor_time'] = 16.78\n",
    "df_final.loc[(df_final['Time']=='Coritiba FC') & (df_final['Temporada']== 2020),'Valor_time'] = 14.5\n",
    "df_final.loc[(df_final['Time']=='Flamengo RJ') & (df_final['Temporada']== 2020),'Valor_time'] = 122.85\n",
    "df_final.loc[(df_final['Time']=='Fluminense RJ') & (df_final['Temporada']== 2020),'Valor_time'] = 37.23\n",
    "df_final.loc[(df_final['Time']=='Fortaleza') & (df_final['Temporada']== 2020),'Valor_time'] = 16.45\n",
    "df_final.loc[(df_final['Time']=='Goiás') & (df_final['Temporada']== 2020),'Valor_time'] = 7.8\n",
    "df_final.loc[(df_final['Time']=='Palmeiras') & (df_final['Temporada']== 2020),'Valor_time'] = 105.2"
   ]
  },
  {
   "cell_type": "code",
   "execution_count": null,
   "metadata": {},
   "outputs": [],
   "source": [
    "time_valor_2019 = {'São Paulo FC':72.2, 'Atlético Mineiro':50.4, 'Chapecoense':28.75, \n",
    "       'Flamengo RJ':104.75,'Grêmio Porto Alegre':71.35, 'Ceará - CE':19.68, 'Bahia - BA':38.55,\n",
    "       'Athletico Paranaense':35.3, 'Palmeiras':134.55, 'Fluminense RJ':35.45,\n",
    "       'Internacional':57.7, 'Corinthians SP':65.7, 'CSA - AL':25.58, 'Cruzeiro':55.58,\n",
    "       'Avaí - SC':12.25, 'Fortaleza':22.65, 'Vasco da Gama':38.05, 'Goiás':21.8, 'Santos FC':79.88,\n",
    "       'Botafogo - RJ':30.95}\n",
    "for time in time_valor_2019:\n",
    "    add_valor(f'{time}',2019,time_valor_2019[time])"
   ]
  },
  {
   "cell_type": "code",
   "execution_count": null,
   "metadata": {},
   "outputs": [],
   "source": [
    "time_valor_2018 = {'Cruzeiro':62.25, 'Vitória - BA':43.9, 'Santos FC':68, 'América - MG':27.35,\n",
    "       'Vasco da Gama':41.58, 'Corinthians SP':61.4, 'Internacional':55.75,\n",
    "       'Athletico Paranaense':37.65, 'Botafogo - RJ':25.55, 'São Paulo FC':70.88,\n",
    "       'Bahia - BA':34.9, 'Flamengo RJ':67.38, 'Paraná Clube':18.48, 'Atlético Mineiro':61.35,\n",
    "       'Chapecoense':32.03, 'Fluminense RJ':30.8, 'Ceará - CE':27.7, 'Palmeiras':88.33,\n",
    "       'Grêmio Porto Alegre':67.6, 'Sport - PE':30.95}\n",
    "for time in time_valor_2018:\n",
    "    add_valor(f'{time}',2018,time_valor_2018[time])"
   ]
  },
  {
   "cell_type": "code",
   "execution_count": null,
   "metadata": {},
   "outputs": [],
   "source": [
    "time_valor_2017 = {'Flamengo RJ':84.08, 'Corinthians SP':49.5, 'Fluminense RJ':36.55, 'Palmeiras':67.4,\n",
    "       'Cruzeiro':74.83, 'Bahia - BA':34.25, 'Ponte Preta':33.45, 'Avaí - SC':4.9,\n",
    "       'Grêmio Porto Alegre':59.45, 'Coritiba FC':30.08, 'Santos FC':54.35,\n",
    "       'Atlético Goianiense':14.9, 'Chapecoense':36.93, 'Vasco da Gama':35.85,\n",
    "       'Atlético Mineiro':78.1, 'Athletico Paranaense':43.68, 'Vitória - BA':38.75,\n",
    "       'Botafogo - RJ':30.2, 'Sport - PE':42.9, 'São Paulo FC':92.05}\n",
    "for time in time_valor_2017:\n",
    "    add_valor(f'{time}',2017,time_valor_2017[time])"
   ]
  },
  {
   "cell_type": "code",
   "execution_count": null,
   "metadata": {},
   "outputs": [],
   "source": [
    "time_valor_2016 = {'Flamengo RJ':55.55, 'Palmeiras':69.95, 'Atlético Mineiro':62.55, 'Coritiba FC':19.6,\n",
    "       'Botafogo - RJ':12.65, 'Santa Cruz - PE':10.65, 'Corinthians SP':48.2,\n",
    "       'Figueirense - SC':20.95, 'América - MG':30.15, 'Internacional':43.6, 'Ponte Preta':28.15,\n",
    "       'Fluminense RJ':53.85, 'Cruzeiro':54.85, 'Santos FC':36, 'Athletico Paranaense':40.73,\n",
    "       'Vitória - BA':23.45, 'São Paulo FC':62.95, 'Grêmio Porto Alegre':54.53,\n",
    "       'Chapecoense':35.2, 'Sport - PE':42.5}\n",
    "for time in time_valor_2016:\n",
    "    add_valor(f'{time}',2016,time_valor_2016[time])"
   ]
  },
  {
   "cell_type": "code",
   "execution_count": null,
   "metadata": {},
   "outputs": [],
   "source": [
    "time_valor_2015 = {'Palmeiras':59.15, 'Chapecoense':6.75, 'Fluminense RJ':52.35, 'Grêmio Porto Alegre':31.35,\n",
    "       'São Paulo FC':88.8, 'Cruzeiro':58.65, 'Athletico Paranaense':12.5, 'Sport - PE':20.85,\n",
    "       'Vasco da Gama':17.4, 'Avaí - SC':9.65, 'Coritiba FC':15.85, 'Goiás':7.25,\n",
    "       'Corinthians SP':52.85, 'Figueirense - SC':12.15, 'Santos FC':20.03, 'Flamengo RJ':34.45,\n",
    "       'Atlético Mineiro':53.78, 'Ponte Preta':7.7, 'Internacional':55.5,\n",
    "       'Joinville - SC':4.6}\n",
    "for time in time_valor_2015:\n",
    "    add_valor(f'{time}',2015,time_valor_2015[time])"
   ]
  },
  {
   "cell_type": "code",
   "execution_count": null,
   "metadata": {},
   "outputs": [],
   "source": [
    "time_valor_2014 = {'Fluminense RJ':39.15, 'Internacional':19.75, 'Chapecoense':4.4, 'São Paulo FC':93.15,\n",
    "       'Athletico Paranaense':9.05, 'Atlético Mineiro':50.95, 'Bahia - BA':16.75,\n",
    "       'Flamengo RJ':29.1, 'Santos FC':42.35, 'Criciúma - SC':13.85, 'Coritiba FC':17.6,\n",
    "       'Palmeiras':20.1, 'Botafogo - RJ':23.45, 'Corinthians SP':62.85, 'Cruzeiro':41.95,\n",
    "       'Vitória - BA':12.55, 'Sport - PE':8.3, 'Grêmio Porto Alegre':30.1,\n",
    "       'Figueirense - SC':5.2, 'Goiás':4.25}\n",
    "for time in time_valor_2014:\n",
    "    add_valor(f'{time}',2014,time_valor_2014[time])"
   ]
  },
  {
   "cell_type": "code",
   "execution_count": null,
   "metadata": {},
   "outputs": [],
   "source": [
    "time_valor_2013 = {'Vasco da Gama':27.2, 'Vitória - BA':17.88, 'Corinthians SP':84.55,\n",
    "       'Grêmio Porto Alegre':77.65, 'Ponte Preta':13.78, 'Criciúma - SC':15.1, 'Santos FC':103.75,\n",
    "       'Fluminense RJ':68.15, 'Cruzeiro':55.25, 'Coritiba FC':31.4, 'Athletico Paranaense':15.85,\n",
    "       'Botafogo - RJ':36, 'São Paulo FC':115.8, 'Flamengo RJ':44.45, 'Bahia - BA':24.05,\n",
    "       'Náutico - PE':14.1, 'Goiás':8.65, 'Internacional':62.3, 'Atlético Mineiro':46.1,\n",
    "       'Portuguesa - SP':16.5}\n",
    "for time in time_valor_2013:\n",
    "    add_valor(f'{time}',2013,time_valor_2013[time])"
   ]
  },
  {
   "cell_type": "code",
   "execution_count": null,
   "metadata": {},
   "outputs": [],
   "source": [
    "aux = df_final['Gols'].str.split(':', n = 1, expand = True)\n",
    "df_final['Gols_marcados'] = aux[0] \n",
    "df_final['Gols_sofridos'] = aux[1] \n",
    "df_final = df_final.drop(columns=['Gols'])"
   ]
  },
  {
   "cell_type": "code",
   "execution_count": null,
   "metadata": {},
   "outputs": [],
   "source": [
    "df_aux = df_final.copy()"
   ]
  },
  {
   "cell_type": "code",
   "execution_count": null,
   "metadata": {},
   "outputs": [],
   "source": [
    "taxa_gols = []\n",
    "aux1 = df_final['Gols_marcados'].values\n",
    "aux2 = df_final['Gols_sofridos'].values\n",
    "linhas = df_final.shape[0]\n",
    "for i in range(0,linhas):\n",
    "    if int(aux2[i]) != 0:\n",
    "        divisao = int(aux1[i])/int(aux2[i])\n",
    "    else:\n",
    "        divisao = 1\n",
    "    divisao = np.round(divisao,3)\n",
    "    taxa_gols.append(divisao)\n",
    "df_final = df_final.assign(Taxa_gols = taxa_gols)"
   ]
  },
  {
   "cell_type": "code",
   "execution_count": null,
   "metadata": {},
   "outputs": [],
   "source": [
    "aproveitamento = []\n",
    "linhas = df_final.shape[0]\n",
    "aux1 = df_final['Pontuacao'].values\n",
    "pont_max = df_final['Rodada_atual'].values*3\n",
    "for i in range(0,linhas):\n",
    "    aproveitamento.append(aux1[i]/pont_max[i])\n",
    "df_final = df_final.assign(Aproveitamento = aproveitamento)"
   ]
  },
  {
   "cell_type": "code",
   "execution_count": null,
   "metadata": {},
   "outputs": [],
   "source": [
    "df_final['Gols_marcados'] = df_final['Gols_marcados'].astype(int)\n",
    "df_final['Gols_sofridos'] = df_final['Gols_sofridos'].astype(int)"
   ]
  },
  {
   "cell_type": "code",
   "execution_count": null,
   "metadata": {},
   "outputs": [],
   "source": [
    "df_final.info()"
   ]
  },
  {
   "cell_type": "code",
   "execution_count": null,
   "metadata": {},
   "outputs": [],
   "source": [
    "df_final"
   ]
  },
  {
   "cell_type": "code",
   "execution_count": null,
   "metadata": {},
   "outputs": [],
   "source": [
    "df_final.to_csv('dados_tabela.csv', index=False)"
   ]
  },
  {
   "cell_type": "markdown",
   "metadata": {},
   "source": [
    "# Machine Learning"
   ]
  },
  {
   "cell_type": "code",
   "execution_count": null,
   "metadata": {},
   "outputs": [],
   "source": [
    "pd.set_option('display.max_rows', 12)\n",
    "def select_kbest_clf(data_frame, target, k='all'):\n",
    "    feat_selector = SelectKBest(f_classif, k=k)\n",
    "    _ = feat_selector.fit(data_frame.drop(target, axis=1), data_frame[target])\n",
    "    \n",
    "    feat_scores = pd.DataFrame()\n",
    "    feat_scores[\"Atributo\"] = data_frame.drop(target, axis=1).columns\n",
    "    feat_scores[\"F Score\"] = feat_selector.scores_\n",
    "    feat_scores[\"Valor p\"] = feat_selector.pvalues_\n",
    "    \n",
    "    return feat_scores\n",
    "df_aux = df_final.drop(['Time','Posicao'],1)\n",
    "kbest_feat = select_kbest_clf(df_aux, 'Pontuacao', k='all')\n",
    "kbest_feat = kbest_feat.sort_values([\"F Score\", \"Valor p\"], ascending=[False, False])\n",
    "kbest_feat"
   ]
  },
  {
   "cell_type": "code",
   "execution_count": null,
   "metadata": {},
   "outputs": [],
   "source": [
    "pontuacao = df_final['Pontuacao']\n",
    "atributos = df_final.drop(['Time','Pontuacao','Vitorias','Empates','Rodada_atual','Derrotas','Posicao','Temporada'],1)"
   ]
  },
  {
   "cell_type": "code",
   "execution_count": null,
   "metadata": {},
   "outputs": [],
   "source": [
    "corr = df_final.drop(['Time'],1).corr()\n",
    "corr.style.background_gradient(cmap='coolwarm').set_precision(3)"
   ]
  },
  {
   "cell_type": "code",
   "execution_count": null,
   "metadata": {},
   "outputs": [],
   "source": [
    "scaler = StandardScaler()\n",
    "atrib_norm = scaler.fit_transform(atributos)\n",
    "atrib_norm=pd.DataFrame(atrib_norm)\n",
    "atrib_norm.columns = atributos.columns"
   ]
  },
  {
   "cell_type": "code",
   "execution_count": null,
   "metadata": {},
   "outputs": [],
   "source": [
    "atrib_norm"
   ]
  },
  {
   "cell_type": "code",
   "execution_count": null,
   "metadata": {},
   "outputs": [],
   "source": [
    "X_train = atrib_norm[:4560] # 2013-2018\n",
    "X_test = atrib_norm[4560:5320] # 2019\n",
    "d_train = pontuacao[:4560] # 2013-2018\n",
    "d_test = pontuacao[4560:5320] # 2019"
   ]
  },
  {
   "cell_type": "markdown",
   "metadata": {},
   "source": [
    "Regressão Linear"
   ]
  },
  {
   "cell_type": "code",
   "execution_count": null,
   "metadata": {},
   "outputs": [],
   "source": [
    "model_reg_linear = LinearRegression()\n",
    "model_reg_linear.fit(X_train,d_train)"
   ]
  },
  {
   "cell_type": "code",
   "execution_count": null,
   "metadata": {},
   "outputs": [],
   "source": [
    "#Calculando a acurácia do treinamento\n",
    "y_hat_train = model_reg_linear.predict(X_train)\n",
    "r2 = r2_score(d_train, y_hat_train)\n",
    "RSME = np.sqrt(mean_squared_error(d_train, y_hat_train))\n",
    "print(f'R²: {r2:.3}')\n",
    "print(f'RSME: {RSME:.3}')"
   ]
  },
  {
   "cell_type": "code",
   "execution_count": null,
   "metadata": {},
   "outputs": [],
   "source": [
    "#Calculando a acurácia do teste\n",
    "y_hat_test = model_reg_linear.predict(X_test)\n",
    "r2 = r2_score(d_test, y_hat_test)\n",
    "RSME = np.sqrt(mean_squared_error(d_test, y_hat_test))\n",
    "print(f'R²: {r2:.3}')\n",
    "print(f'RSME: {RSME:.3}')"
   ]
  },
  {
   "cell_type": "code",
   "execution_count": null,
   "metadata": {},
   "outputs": [],
   "source": [
    "importancia = model_reg_linear.coef_[:]\n",
    "importancia_features = pd.DataFrame(importancia, X_train.columns)\n",
    "importancia_features = importancia_features.sort_values(by=0, ascending=False)\n",
    "importancia_features.columns = ['Score']\n",
    "display(importancia_features)\n",
    "plt.figure(figsize=(15, 5))\n",
    "ax = sns.barplot(x=importancia_features.index, y=importancia_features['Score'])\n",
    "ax.tick_params(axis='x', rotation=90)"
   ]
  },
  {
   "cell_type": "markdown",
   "metadata": {},
   "source": [
    "Árvore de decisão"
   ]
  },
  {
   "cell_type": "code",
   "execution_count": null,
   "metadata": {},
   "outputs": [],
   "source": [
    "arvore = DecisionTreeRegressor()\n",
    "arvore.fit(X_train, d_train)"
   ]
  },
  {
   "cell_type": "code",
   "execution_count": null,
   "metadata": {},
   "outputs": [],
   "source": [
    "#Calculando a acurácia do teste\n",
    "y_hat_test = arvore.predict(X_test)\n",
    "r2 = r2_score(d_test, y_hat_test)\n",
    "RSME = np.sqrt(mean_squared_error(d_test, y_hat_test))\n",
    "print(f'R²: {r2:.3}')\n",
    "print(f'RSME: {RSME:.3}')"
   ]
  },
  {
   "cell_type": "code",
   "execution_count": null,
   "metadata": {},
   "outputs": [],
   "source": [
    "importancia = arvore.feature_importances_\n",
    "importancia_features = pd.DataFrame(importancia, X_train.columns)\n",
    "importancia_features = importancia_features.sort_values(by=0, ascending=False)\n",
    "importancia_features.columns = ['Score']\n",
    "display(importancia_features)\n",
    "plt.figure(figsize=(15, 5))\n",
    "ax = sns.barplot(x=importancia_features.index, y=importancia_features['Score'])\n",
    "ax.tick_params(axis='x', rotation=90)"
   ]
  },
  {
   "cell_type": "markdown",
   "metadata": {},
   "source": [
    "Random Forest"
   ]
  },
  {
   "cell_type": "code",
   "execution_count": null,
   "metadata": {},
   "outputs": [],
   "source": [
    "floresta = RandomForestRegressor(n_estimators = 100)\n",
    "floresta.fit(X_train, d_train)"
   ]
  },
  {
   "cell_type": "code",
   "execution_count": null,
   "metadata": {},
   "outputs": [],
   "source": [
    "#Calculando a acurácia do teste\n",
    "y_hat_test = floresta.predict(X_test)\n",
    "r2 = r2_score(d_test, y_hat_test)\n",
    "RSME = np.sqrt(mean_squared_error(d_test, y_hat_test))\n",
    "print(f'R²: {r2:.3}')\n",
    "print(f'RSME: {RSME:.3}')"
   ]
  },
  {
   "cell_type": "code",
   "execution_count": null,
   "metadata": {},
   "outputs": [],
   "source": [
    "importancia = floresta.feature_importances_\n",
    "importancia_features = pd.DataFrame(importancia, X_train.columns)\n",
    "importancia_features = importancia_features.sort_values(by=0, ascending=False)\n",
    "importancia_features.columns = ['Score']\n",
    "display(importancia_features)\n",
    "plt.figure(figsize=(8, 5))\n",
    "ax = sns.barplot(x=importancia_features.index, y=importancia_features['Score'])\n",
    "ax.tick_params(axis='x', rotation=90)"
   ]
  },
  {
   "cell_type": "code",
   "execution_count": null,
   "metadata": {},
   "outputs": [],
   "source": [
    "model_XGBR = XGBRegressor()\n",
    "model_XGBR.fit(X_train, d_train,verbose=False)"
   ]
  },
  {
   "cell_type": "code",
   "execution_count": null,
   "metadata": {},
   "outputs": [],
   "source": [
    "#Calculando a acurácia do teste\n",
    "y_hat_test = model_XGBR.predict(X_test)\n",
    "r2 = r2_score(d_test, y_hat_test)\n",
    "RSME = np.sqrt(mean_squared_error(d_test, y_hat_test))\n",
    "print(f'R²: {r2:.3}')\n",
    "print(f'RSME: {RSME:.3}')"
   ]
  },
  {
   "cell_type": "code",
   "execution_count": null,
   "metadata": {},
   "outputs": [],
   "source": [
    "importancia_features = model_XGBR.get_booster().get_score(importance_type='weight')\n",
    "importancia_features = pd.DataFrame(importancia, X_train.columns)\n",
    "importancia_features = importancia_features.sort_values(by=0, ascending=False)\n",
    "importancia_features.columns = ['Score']\n",
    "display(importancia_features)\n",
    "plt.figure(figsize=(8, 5))\n",
    "ax = sns.barplot(x=importancia_features.index, y=importancia_features['Score'])\n",
    "ax.tick_params(axis='x', rotation=90)"
   ]
  },
  {
   "cell_type": "code",
   "execution_count": null,
   "metadata": {},
   "outputs": [],
   "source": [
    "def rodada(numero):\n",
    "    rodada = df_final.loc[(df_final['Rodada_atual']==numero) & (df_final['Temporada']== 2020)]\n",
    "    rodada = rodada.drop(['Time','Pontuacao','Vitorias','Empates','Rodada_atual','Derrotas','Posicao','Temporada'],1)\n",
    "    scaler = StandardScaler()\n",
    "    rodada_norm = scaler.fit_transform(rodada)\n",
    "    rodada_norm=pd.DataFrame(rodada_norm)\n",
    "    rodada_norm.columns = rodada.columns\n",
    "    return rodada_norm"
   ]
  },
  {
   "cell_type": "code",
   "execution_count": null,
   "metadata": {},
   "outputs": [],
   "source": [
    "def times_x(numero):\n",
    "    times = df_final.loc[(df_final['Rodada_atual']==numero)& (df_final['Temporada']== 2020),'Time']\n",
    "    times = pd.DataFrame(times)\n",
    "    times.rename(columns={0: 'Time'}, inplace=True)\n",
    "    return times\n",
    "times = times_x(23)"
   ]
  },
  {
   "cell_type": "code",
   "execution_count": null,
   "metadata": {},
   "outputs": [],
   "source": [
    "from IPython.display import display_html\n",
    "from itertools import chain,cycle\n",
    "def display_side_by_side(*args,titles=cycle([''])):\n",
    "    html_str=''\n",
    "    for df,title in zip(args, chain(titles,cycle(['</br>'])) ):\n",
    "        html_str+='<th style=\"text-align:center\"><td style=\"vertical-align:top\">'\n",
    "        html_str+=f'<h2>{title}</h2>'\n",
    "        html_str+=df.to_html(index=False).replace('table','table style=\"display:inline\"')\n",
    "        html_str+='</td></th>'\n",
    "    display_html(html_str,raw=True)"
   ]
  },
  {
   "cell_type": "markdown",
   "metadata": {},
   "source": [
    "Tabela final - Regressão linear"
   ]
  },
  {
   "cell_type": "code",
   "execution_count": null,
   "metadata": {},
   "outputs": [],
   "source": [
    "y_pred = model_reg_linear.predict(rodada(32))\n",
    "y_pred = pd.DataFrame(np.round(y_pred,0))\n",
    "y_pred = y_pred + np.round(np.std(y_pred),0)\n",
    "y_pred = y_pred.astype(int)\n",
    "pred_table_rl = pd.concat([times.reset_index(), y_pred.reset_index()], axis=1).drop(['index'], axis=1).sort_values(0, ascending=False).reset_index()\n",
    "pred_table_rl['index'] = np.arange(1,21)\n",
    "pred_table_rl.columns = ['Posicao', 'Time', 'Pontos']"
   ]
  },
  {
   "cell_type": "markdown",
   "metadata": {},
   "source": [
    "Tabela final - Árvore de decisão"
   ]
  },
  {
   "cell_type": "code",
   "execution_count": null,
   "metadata": {},
   "outputs": [],
   "source": [
    "y_pred = arvore.predict(rodada(32))\n",
    "y_pred = pd.DataFrame(np.round(y_pred,0))\n",
    "y_pred = y_pred + np.round(np.std(y_pred),0)\n",
    "y_pred = y_pred.astype(int)\n",
    "pred_table_arvore = pd.concat([times.reset_index(), y_pred.reset_index()], axis=1).drop(['index'], axis=1).sort_values(0, ascending=False).reset_index()\n",
    "pred_table_arvore['index'] = np.arange(1,21)\n",
    "pred_table_arvore.columns = ['Posicao', 'Time', 'Pontos']"
   ]
  },
  {
   "cell_type": "markdown",
   "metadata": {},
   "source": [
    "Tabela final - Random Forest"
   ]
  },
  {
   "cell_type": "code",
   "execution_count": null,
   "metadata": {},
   "outputs": [],
   "source": [
    "y_pred = floresta.predict(rodada(32))\n",
    "y_pred = pd.DataFrame(np.round(y_pred,0))\n",
    "y_pred = y_pred + np.round(np.std(y_pred),0)\n",
    "y_pred = y_pred.astype(int)\n",
    "pred_table_floresta = pd.concat([times.reset_index(), y_pred.reset_index()], axis=1).drop(['index'], axis=1).sort_values(0, ascending=False).reset_index()\n",
    "pred_table_floresta['index'] = np.arange(1,21)\n",
    "pred_table_floresta.columns = ['Posicao', 'Time', 'Pontos']"
   ]
  },
  {
   "cell_type": "markdown",
   "metadata": {},
   "source": [
    "Tabela final - XGBoost"
   ]
  },
  {
   "cell_type": "code",
   "execution_count": null,
   "metadata": {},
   "outputs": [],
   "source": [
    "y_pred = model_XGBR.predict(rodada(32))\n",
    "y_pred = pd.DataFrame(np.round(y_pred,0))\n",
    "y_pred = y_pred + np.round(np.std(y_pred),0)\n",
    "y_pred = y_pred.astype(int)\n",
    "pred_table_XGBR = pd.concat([times.reset_index(), y_pred.reset_index()], axis=1).drop(['index'], axis=1).sort_values(0, ascending=False).reset_index()\n",
    "pred_table_XGBR['index'] = np.arange(1,21)\n",
    "pred_table_XGBR.columns = ['Posicao', 'Time', 'Pontos']"
   ]
  },
  {
   "cell_type": "code",
   "execution_count": null,
   "metadata": {},
   "outputs": [],
   "source": [
    "display_side_by_side(pred_table_rl,pred_table_arvore,pred_table_floresta,pred_table_XGBR, titles=['Regressao Linear','Arvore de decisao','Random Forest','XGBoost'])"
   ]
  },
  {
   "cell_type": "markdown",
   "metadata": {},
   "source": [
    "# Fazendo previsão brasileirão 2021"
   ]
  },
  {
   "cell_type": "code",
   "execution_count": null,
   "metadata": {},
   "outputs": [],
   "source": [
    "df_2021_aux = pd.read_html('https://www.worldfootball.net/schedule/bra-serie-a-2021-spieltag/12/', header = 0)\n",
    "df_2021 = df_2021_aux[3]"
   ]
  },
  {
   "cell_type": "code",
   "execution_count": null,
   "metadata": {},
   "outputs": [],
   "source": [
    "df_2021.drop(['Team'], inplace=True, axis=1)\n",
    "df_2021.rename(index=str, columns={'#': 'Posicao', 'Team.1': 'Time', 'M.': 'Rodada_atual', 'W': 'Vitorias',\n",
    "                              'D': 'Empates', 'L': 'Derrotas', 'goals': 'Gols',\n",
    "                               'Dif.': 'Saldo_gols', 'Pt.': 'Pontuacao'}, inplace=True)\n",
    "df_2021['Posicao'] = pd.to_numeric(df_2021.index) + 1"
   ]
  },
  {
   "cell_type": "code",
   "execution_count": null,
   "metadata": {},
   "outputs": [],
   "source": [
    "df_2021['Ranking_2021'] = 0\n",
    "df_2021.loc[df_2021['Time']=='São Paulo FC','Ranking_2021'] = 11870\n",
    "df_2021.loc[df_2021['Time']=='Sport - PE','Ranking_2021'] = 7043\n",
    "df_2021.loc[df_2021['Time']=='Bahia - BA','Ranking_2021'] = 10175\n",
    "df_2021.loc[df_2021['Time']=='Atlético Mineiro','Ranking_2021'] = 11789\n",
    "df_2021.loc[df_2021['Time']=='Grêmio Porto Alegre','Ranking_2021'] = 15180\n",
    "df_2021.loc[df_2021['Time']=='Santos FC','Ranking_2021'] = 12776\n",
    "df_2021.loc[df_2021['Time']=='Internacional','Ranking_2021'] = 13310\n",
    "df_2021.loc[df_2021['Time']=='Athletico Paranaense','Ranking_2021'] = 12968\n",
    "df_2021.loc[df_2021['Time']=='Atlético Goianiense','Ranking_2021'] = 7310\n",
    "df_2021.loc[df_2021['Time']=='Corinthians SP','Ranking_2021'] = 12032\n",
    "df_2021.loc[df_2021['Time']=='Red Bull Bragantino','Ranking_2021'] = 6332 \n",
    "df_2021.loc[df_2021['Time']=='Ceará - CE','Ranking_2021'] = 9128\n",
    "df_2021.loc[df_2021['Time']=='Flamengo RJ','Ranking_2021'] = 16768\n",
    "df_2021.loc[df_2021['Time']=='Fluminense RJ','Ranking_2021'] = 9666\n",
    "df_2021.loc[df_2021['Time']=='Fortaleza','Ranking_2021'] = 8086\n",
    "df_2021.loc[df_2021['Time']=='Palmeiras','Ranking_2021'] = 16110\n",
    "df_2021.loc[df_2021['Time']=='Juventude - RS','Ranking_2021'] = 5725\n",
    "df_2021.loc[df_2021['Time']=='Cuiabá - MT','Ranking_2021'] = 5679\n",
    "df_2021.loc[df_2021['Time']=='América - MG','Ranking_2021'] = 8404\n",
    "df_2021.loc[df_2021['Time']=='Chapecoense','Ranking_2021'] = 8985"
   ]
  },
  {
   "cell_type": "code",
   "execution_count": null,
   "metadata": {},
   "outputs": [],
   "source": [
    "df_2021['Valor_time_mi'] = 0\n",
    "df_2021.loc[df_2021['Time']=='São Paulo FC','Valor_time_mi'] = 78.3\n",
    "df_2021.loc[df_2021['Time']=='Sport - PE','Valor_time_mi'] = 20.5\n",
    "df_2021.loc[df_2021['Time']=='Bahia - BA','Valor_time_mi'] = 21.93\n",
    "df_2021.loc[df_2021['Time']=='Atlético Mineiro','Valor_time_mi'] = 85.65\n",
    "df_2021.loc[df_2021['Time']=='Grêmio Porto Alegre','Valor_time_mi'] = 95.75\n",
    "df_2021.loc[df_2021['Time']=='Santos FC','Valor_time_mi'] = 69.98\n",
    "df_2021.loc[df_2021['Time']=='Internacional','Valor_time_mi'] = 69.85\n",
    "df_2021.loc[df_2021['Time']=='Athletico Paranaense','Valor_time_mi'] = 54.7\n",
    "df_2021.loc[df_2021['Time']=='Juventude - RS','Valor_time_mi'] = 13.5\n",
    "df_2021.loc[df_2021['Time']=='Atlético Goianiense','Valor_time_mi'] = 14.98\n",
    "df_2021.loc[df_2021['Time']=='Corinthians SP','Valor_time_mi'] = 56.05\n",
    "df_2021.loc[df_2021['Time']=='Red Bull Bragantino','Valor_time_mi'] = 61.03\n",
    "df_2021.loc[df_2021['Time']=='Ceará - CE','Valor_time_mi'] = 18.7\n",
    "df_2021.loc[df_2021['Time']=='Chapecoense','Valor_time_mi'] = 15.03\n",
    "df_2021.loc[df_2021['Time']=='Cuiabá - MT','Valor_time_mi'] = 16.1\n",
    "df_2021.loc[df_2021['Time']=='Flamengo RJ','Valor_time_mi'] = 152.95\n",
    "df_2021.loc[df_2021['Time']=='Fluminense RJ','Valor_time_mi'] = 74.68\n",
    "df_2021.loc[df_2021['Time']=='Fortaleza','Valor_time_mi'] = 21.98\n",
    "df_2021.loc[df_2021['Time']=='América - MG','Valor_time_mi'] = 12.9\n",
    "df_2021.loc[df_2021['Time']=='Palmeiras','Valor_time_mi'] = 147.85"
   ]
  },
  {
   "cell_type": "code",
   "execution_count": null,
   "metadata": {},
   "outputs": [],
   "source": [
    "aux = df_2021['Gols'].str.split(':', n = 1, expand = True)\n",
    "df_2021['Gols_marcados'] = aux[0] \n",
    "df_2021['Gols_sofridos'] = aux[1] \n",
    "df_2021 = df_2021.drop(columns=['Gols'])"
   ]
  },
  {
   "cell_type": "code",
   "execution_count": null,
   "metadata": {},
   "outputs": [],
   "source": [
    "taxa_gols = []\n",
    "aux1 = df_2021['Gols_marcados'].values\n",
    "aux2 = df_2021['Gols_sofridos'].values\n",
    "linhas = df_2021.shape[0]\n",
    "for i in range(0,linhas):\n",
    "    if int(aux2[i]) != 0:\n",
    "        divisao = int(aux1[i])/int(aux2[i])\n",
    "    else:\n",
    "        divisao = 1\n",
    "    divisao = np.round(divisao,3)\n",
    "    taxa_gols.append(divisao)\n",
    "df_2021 = df_2021.assign(Taxa_gols = taxa_gols)"
   ]
  },
  {
   "cell_type": "code",
   "execution_count": null,
   "metadata": {},
   "outputs": [],
   "source": [
    "aproveitamento = []\n",
    "linhas = df_2021.shape[0]\n",
    "aux1 = df_2021['Pontuacao'].values\n",
    "pont_max = df_2021['Rodada_atual'].values*3\n",
    "for i in range(0,linhas):\n",
    "    aproveitamento.append(aux1[i]/pont_max[i])\n",
    "df_2021 = df_2021.assign(Aproveitamento = aproveitamento)"
   ]
  },
  {
   "cell_type": "code",
   "execution_count": null,
   "metadata": {},
   "outputs": [],
   "source": [
    "df_2021['Gols_marcados'] = df_2021['Gols_marcados'].astype(int)\n",
    "df_2021['Gols_sofridos'] = df_2021['Gols_sofridos'].astype(int)"
   ]
  },
  {
   "cell_type": "code",
   "execution_count": null,
   "metadata": {},
   "outputs": [],
   "source": [
    "df_2021_aux = df_2021.drop(['Time','Pontuacao','Vitorias','Empates','Rodada_atual','Derrotas','Posicao'],1)\n",
    "df_2021_norm = scaler.fit_transform(df_2021_aux)\n",
    "df_2021_norm=pd.DataFrame(df_2021_norm)\n",
    "df_2021_norm.columns = df_2021_aux.columns\n",
    "times = df_2021['Time']\n",
    "times = pd.DataFrame(times)\n",
    "times.rename(columns={0: 'Time'}, inplace=True)"
   ]
  },
  {
   "cell_type": "markdown",
   "metadata": {},
   "source": [
    "Tabela final - Regressão Linear"
   ]
  },
  {
   "cell_type": "code",
   "execution_count": null,
   "metadata": {},
   "outputs": [],
   "source": [
    "y_pred_rl = model_reg_linear.predict(df_2021_norm)\n",
    "y_pred_rl = pd.DataFrame(np.round(y_pred_rl,0))\n",
    "y_pred_rl = y_pred_rl + np.round(np.std(y_pred_rl),0)\n",
    "y_pred_rl = y_pred_rl.astype(int)\n",
    "pred_table_rl = pd.concat([times.reset_index(), y_pred_rl.reset_index()], axis=1).drop(['index'], axis=1).sort_values(0, ascending=False).reset_index()\n",
    "pred_table_rl['index'] = np.arange(1,21)\n",
    "pred_table_rl.columns = ['Posicao', 'Time', 'Pontos']"
   ]
  },
  {
   "cell_type": "markdown",
   "metadata": {},
   "source": [
    "Tabela final - Árvore de decisão"
   ]
  },
  {
   "cell_type": "code",
   "execution_count": null,
   "metadata": {},
   "outputs": [],
   "source": [
    "y_pred_arvore = arvore.predict(df_2021_norm)\n",
    "y_pred_arvore = pd.DataFrame(np.round(y_pred_arvore,0))\n",
    "y_pred_arvore = y_pred_arvore + np.round(np.std(y_pred_arvore),0)\n",
    "y_pred_arvore = y_pred_arvore.astype(int)\n",
    "pred_table_arvore = pd.concat([times.reset_index(), y_pred_arvore.reset_index()], axis=1).drop(['index'], axis=1).sort_values(0, ascending=False).reset_index()\n",
    "pred_table_arvore['index'] = np.arange(1,21)\n",
    "pred_table_arvore.columns = ['Posicao', 'Time', 'Pontos']"
   ]
  },
  {
   "cell_type": "markdown",
   "metadata": {},
   "source": [
    "Tabela final - Random Forest"
   ]
  },
  {
   "cell_type": "code",
   "execution_count": null,
   "metadata": {},
   "outputs": [],
   "source": [
    "y_pred_floresta = floresta.predict(df_2021_norm)\n",
    "y_pred_floresta = pd.DataFrame(np.round(y_pred_floresta,0))\n",
    "y_pred_floresta = y_pred_floresta + np.round(np.std(y_pred_floresta),0)\n",
    "y_pred_floresta = y_pred_floresta.astype(int)\n",
    "pred_table_floresta = pd.concat([times.reset_index(), y_pred.reset_index()], axis=1).drop(['index'], axis=1).sort_values(0, ascending=False).reset_index()\n",
    "pred_table_floresta['index'] = np.arange(1,21)\n",
    "pred_table_floresta.columns = ['Posicao', 'Time', 'Pontos']"
   ]
  },
  {
   "cell_type": "markdown",
   "metadata": {},
   "source": [
    "Tabela final - XGBoost"
   ]
  },
  {
   "cell_type": "code",
   "execution_count": null,
   "metadata": {},
   "outputs": [],
   "source": [
    "y_pred_XGBR = model_XGBR.predict(df_2021_norm)\n",
    "y_pred_XGBR = pd.DataFrame(np.round(y_pred_XGBR,0))\n",
    "y_pred_XGBR = y_pred_XGBR + np.round(np.std(y_pred_XGBR),0)\n",
    "y_pred_XGBR = y_pred_XGBR.astype(int)\n",
    "pred_table_XGBR = pd.concat([times.reset_index(), y_pred.reset_index()], axis=1).drop(['index'], axis=1).sort_values(0, ascending=False).reset_index()\n",
    "pred_table_XGBR['index'] = np.arange(1,21)\n",
    "pred_table_XGBR.columns = ['Posicao', 'Time', 'Pontos']"
   ]
  },
  {
   "cell_type": "code",
   "execution_count": null,
   "metadata": {},
   "outputs": [],
   "source": [
    "display_side_by_side(pred_table_rl,pred_table_arvore,pred_table_floresta,pred_table_XGBR, titles=['Regressao Linear','Arvore de decisao','Random Forest','XGBoost'])"
   ]
  },
  {
   "cell_type": "code",
   "execution_count": null,
   "metadata": {},
   "outputs": [],
   "source": [
    "y_pred_total = (y_pred_rl + y_pred_arvore + y_pred_floresta + y_pred_XGBR)/4\n",
    "y_pred_total = y_pred_total.astype(int)\n",
    "pred_table_final = pd.concat([times.reset_index(), y_pred_total.reset_index()], axis=1).drop(['index'], axis=1).sort_values(0, ascending=False).reset_index()\n",
    "pred_table_final['index'] = np.arange(1,21)\n",
    "pred_table_final.columns = ['Posicao', 'Time', 'Pontos']\n",
    "display_side_by_side(pred_table_final, titles=['Tabela Final'])"
   ]
  },
  {
   "cell_type": "code",
   "execution_count": null,
   "metadata": {},
   "outputs": [],
   "source": [
    "final_prediction = y_pred\n",
    "std_error = np.std(y_pred)\n",
    "current_points = df_final.loc[(df_final['Rodada_atual']==15) & (df_final['Temporada']== 2020),'Pontuacao']\n",
    "max_possible_points = []\n",
    "for i in range (0,21):\n",
    "    max_possible_points.append(45)"
   ]
  },
  {
   "cell_type": "code",
   "execution_count": null,
   "metadata": {},
   "outputs": [],
   "source": [
    "std_error = np.std(y_pred)\n",
    "std_error"
   ]
  },
  {
   "cell_type": "code",
   "execution_count": null,
   "metadata": {},
   "outputs": [],
   "source": [
    "plt.plot(model_reg_linear.coef_)"
   ]
  },
  {
   "cell_type": "code",
   "execution_count": null,
   "metadata": {},
   "outputs": [],
   "source": [
    "X_train"
   ]
  },
  {
   "cell_type": "code",
   "execution_count": null,
   "metadata": {},
   "outputs": [],
   "source": [
    "def simulando_pontos(final_prediction, std_error):\n",
    "    points_simulated = np.random.normal(final_prediction, std_error)\n",
    "    return points_simulated"
   ]
  },
  {
   "cell_type": "code",
   "execution_count": null,
   "metadata": {},
   "outputs": [],
   "source": [
    "y_pred = model_XGBR.predict(df_2021_norm)\n",
    "y_pred = pd.DataFrame(np.round(y_pred,0))\n",
    "final_prediction = np.array(y_pred)\n",
    "std_error = np.std(y_pred)\n",
    "N = 10000\n",
    "pontuacao = 0\n",
    "for i in range(N):\n",
    "    pontuacao += simulando_pontos(final_prediction, std_error)/N\n",
    "pontuacao = np.round(pontuacao) + np.round(std_error[0])\n",
    "display(pontuacao)"
   ]
  }
 ],
 "metadata": {
  "kernelspec": {
   "display_name": "Python 3",
   "language": "python",
   "name": "python3"
  },
  "language_info": {
   "codemirror_mode": {
    "name": "ipython",
    "version": 3
   },
   "file_extension": ".py",
   "mimetype": "text/x-python",
   "name": "python",
   "nbconvert_exporter": "python",
   "pygments_lexer": "ipython3",
   "version": "3.8.5"
  }
 },
 "nbformat": 4,
 "nbformat_minor": 4
}
